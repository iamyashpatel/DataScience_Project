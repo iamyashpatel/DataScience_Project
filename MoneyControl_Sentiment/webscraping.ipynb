{
 "cells": [
  {
   "cell_type": "code",
   "execution_count": 1,
   "metadata": {},
   "outputs": [],
   "source": [
    "import requests\n",
    "from bs4 import BeautifulSoup\n",
    "import csv"
   ]
  },
  {
   "cell_type": "code",
   "execution_count": 2,
   "metadata": {},
   "outputs": [],
   "source": [
    "base_url = \"https://www.moneycontrol.com/news/business/stocks/page-\"\n",
    "\n",
    "titles = []"
   ]
  },
  {
   "cell_type": "code",
   "execution_count": null,
   "metadata": {},
   "outputs": [],
   "source": [
    "\n",
    "def scrape_titles_from_page(page_number):\n",
    "    url = f\"{base_url}{page_number}/\"\n",
    "\n",
    "    response = requests.get(url)\n",
    "\n",
    "    if response.status_code == 200:\n",
    "        soup = BeautifulSoup(response.content, 'html.parser')\n",
    "\n",
    "        news_items = soup.find_all('li', class_='clearfix')\n",
    "\n",
    "        for news_item in news_items:\n",
    "            a_tag = news_item.find('a')\n",
    "\n",
    "            if a_tag and 'title' in a_tag.attrs:\n",
    "                titles.append(a_tag['title'])\n",
    "            else:\n",
    "                titles.append(\"No title found\")\n",
    "    else:\n",
    "        print(f\"Failed to retrieve page {page_number}. Status code: {response.status_code}\")\n",
    "\n",
    "for page in range(1, 31):\n",
    "    print(f\"Scraping page {page}...\")\n",
    "    scrape_titles_from_page(page)\n",
    "\n",
    "\n"
   ]
  },
  {
   "cell_type": "code",
   "execution_count": null,
   "metadata": {},
   "outputs": [],
   "source": [
    "csv_filename = \"moneycontrol_titles.csv\"\n",
    "with open(csv_filename, mode='w', newline='', encoding='utf-8') as file:\n",
    "    writer = csv.writer(file)\n",
    "    writer.writerow([\"Title\"])\n",
    "    for title in titles:\n",
    "        writer.writerow([title])\n",
    "\n",
    "print(f\"Scraping completed. Titles saved to {csv_filename}\")"
   ]
  }
 ],
 "metadata": {
  "kernelspec": {
   "display_name": "Python 3",
   "language": "python",
   "name": "python3"
  },
  "language_info": {
   "codemirror_mode": {
    "name": "ipython",
    "version": 3
   },
   "file_extension": ".py",
   "mimetype": "text/x-python",
   "name": "python",
   "nbconvert_exporter": "python",
   "pygments_lexer": "ipython3",
   "version": "3.9.0"
  }
 },
 "nbformat": 4,
 "nbformat_minor": 2
}
