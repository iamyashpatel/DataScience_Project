{
 "cells": [
  {
   "cell_type": "code",
   "execution_count": 11,
   "metadata": {},
   "outputs": [
    {
     "name": "stdout",
     "output_type": "stream",
     "text": [
      "Model and vectorizer loaded successfully!\n",
      "First few rows of the dataset:\n",
      "                                                Text\n",
      "0  hold tata consultancy service target r 4432 an...\n",
      "1  gopal snack stock slump 3 despite positive q2 ...\n",
      "2     subscribe hyundai motor india ipo asit c mehta\n",
      "3  subscribe hyundai motor india ipo geojit finan...\n",
      "4   hcl tech q2 fy25 steam stock post strong quarter\n",
      "Unique prediction values: {1, -1}\n",
      "Predictions saved to 'predicted_sentiments.csv'\n"
     ]
    }
   ],
   "source": [
    "import pandas as pd\n",
    "import joblib\n",
    "import os\n",
    "\n",
    "try:\n",
    "    rf_model_loaded = joblib.load('random_forest_model.pkl')\n",
    "    vectorizer_loaded = joblib.load('tfidf_vectorizer.pkl')\n",
    "    print(\"Model and vectorizer loaded successfully!\")\n",
    "except FileNotFoundError as e:\n",
    "    print(f\"Error: {e}. Please ensure the model and vectorizer files are available.\")\n",
    "    exit()\n",
    "\n",
    "csv_file = 'cleaned_text.csv'\n",
    "if not os.path.exists(csv_file):\n",
    "    print(f\"Error: File '{csv_file}' not found. Please provide the correct CSV file.\")\n",
    "    exit()\n",
    "\n",
    "new_df = pd.read_csv(csv_file)\n",
    "\n",
    "if 'Text' not in new_df.columns:\n",
    "    print(\"Error: 'Text' column not found in the dataset. Ensure the input file has a 'Text' column.\")\n",
    "    exit()\n",
    "\n",
    "print(\"First few rows of the dataset:\")\n",
    "print(new_df.head())\n",
    "\n",
    "new_data_tfidf = vectorizer_loaded.transform(new_df['Text'])\n",
    "\n",
    "new_predictions = rf_model_loaded.predict(new_data_tfidf)\n",
    "\n",
    "print(\"Unique prediction values:\", set(new_predictions))  \n",
    "\n",
    "sentiment_map = {-1: 'Negative', 0: 'Neutral', 1: 'Positive'}  \n",
    "\n",
    "new_df['Predicted_Sentiment'] = [sentiment_map[pred] for pred in new_predictions]\n",
    "\n",
    "output_file = 'predicted_sentiments.csv'\n",
    "new_df.to_csv(output_file, index=False)\n",
    "\n",
    "print(f\"Predictions saved to '{output_file}'\")\n"
   ]
  },
  {
   "cell_type": "code",
   "execution_count": null,
   "metadata": {},
   "outputs": [],
   "source": []
  }
 ],
 "metadata": {
  "kernelspec": {
   "display_name": "Python 3",
   "language": "python",
   "name": "python3"
  },
  "language_info": {
   "codemirror_mode": {
    "name": "ipython",
    "version": 3
   },
   "file_extension": ".py",
   "mimetype": "text/x-python",
   "name": "python",
   "nbconvert_exporter": "python",
   "pygments_lexer": "ipython3",
   "version": "3.9.0"
  }
 },
 "nbformat": 4,
 "nbformat_minor": 2
}
