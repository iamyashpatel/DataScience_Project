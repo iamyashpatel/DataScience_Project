{
 "cells": [
  {
   "cell_type": "code",
   "execution_count": 6,
   "metadata": {},
   "outputs": [
    {
     "name": "stdout",
     "output_type": "stream",
     "text": [
      "Dataset with sentiment labels saved to stock_data_with_sentiment_labels.csv.\n"
     ]
    }
   ],
   "source": [
    "import pandas as pd\n",
    "\n",
    "data = pd.read_csv('stock_data.csv')  \n",
    "\n",
    "def map_sentiment(value):\n",
    "    if value == 1:\n",
    "        return 'Positive'\n",
    "    elif value == -1:\n",
    "        return 'Negative'\n",
    "    else:\n",
    "        return 'Neutral'  \n",
    "\n",
    "\n",
    "data['Sentiment'] = data['Sentiment'].apply(map_sentiment)\n",
    "\n",
    "data = data.drop(columns=['Sentiment'])\n",
    "\n",
    "\n",
    "output_file_path = 'stock_data_with_sentiment_labels.csv'\n",
    "data.to_csv(output_file_path, index=False) \n",
    "\n",
    "print(f\"Dataset with sentiment labels saved to {output_file_path}.\")\n"
   ]
  },
  {
   "cell_type": "code",
   "execution_count": null,
   "metadata": {},
   "outputs": [],
   "source": []
  }
 ],
 "metadata": {
  "kernelspec": {
   "display_name": "Python 3",
   "language": "python",
   "name": "python3"
  },
  "language_info": {
   "codemirror_mode": {
    "name": "ipython",
    "version": 3
   },
   "file_extension": ".py",
   "mimetype": "text/x-python",
   "name": "python",
   "nbconvert_exporter": "python",
   "pygments_lexer": "ipython3",
   "version": "3.9.0"
  }
 },
 "nbformat": 4,
 "nbformat_minor": 2
}
